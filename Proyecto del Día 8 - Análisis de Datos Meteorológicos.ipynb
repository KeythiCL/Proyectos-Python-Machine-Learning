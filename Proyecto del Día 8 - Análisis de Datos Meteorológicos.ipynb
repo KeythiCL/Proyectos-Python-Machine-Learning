{
 "cells": [
  {
   "cell_type": "markdown",
   "id": "1ff9b7b5",
   "metadata": {},
   "source": [
    "# Proyecto del Día 8 - Análisis de Datos Meteorológicos\n",
    "\n",
    "Este proyecto consiste en analizar un conjunto de datos meteorológicos utilizando Python y NumPy. \n",
    "El objetivo es aplicar las técnicas de manipulación de arrays, tratamiento de datos faltantes, \n",
    "y análisis estadístico básico en un conjunto de datos del mundo real.\n",
    "\n",
    "## Tareas a Realizar:\n",
    "1. Crear un DataFrame a partir de los datos del archivo **datos_meteorologicos.csv** provisto en esta lección.\n",
    "2. Realizar observaciones iniciales de los datos con Pandas.\n",
    "3. Convertir las columnas del DataFrame en arrays de NumPy.\n",
    "4. Identificar los datos faltantes en los arrays, y reemplazarlos por el promedio de los valores del respectivo array.\n",
    "5. Realizar análisis estadísticos básicos. Mínimamente se espera que puedas extraer la siguiente información de tus arrays:\n",
    "    * La temperatura promedio\n",
    "    * El total de precipitaciones\n",
    "    * La máxima humedad registrada\n",
    "    * La fecha más calurosa\n",
    "    * La fehca más fría\n",
    "6. Exportar los resultados a un nuevo archivo CSV.\n",
    "\n",
    "¡Mucha suerte con tu proyecto!\n"
   ]
  },
  {
   "cell_type": "markdown",
   "id": "6b416605",
   "metadata": {},
   "source": [
    "### 1. Crear un DataFrame a partir de los datos del archivo datos_meteorologicos.csv provisto en esta lección."
   ]
  },
  {
   "cell_type": "code",
   "execution_count": 87,
   "id": "4dabf813",
   "metadata": {},
   "outputs": [
    {
     "data": {
      "text/html": [
       "<div>\n",
       "<style scoped>\n",
       "    .dataframe tbody tr th:only-of-type {\n",
       "        vertical-align: middle;\n",
       "    }\n",
       "\n",
       "    .dataframe tbody tr th {\n",
       "        vertical-align: top;\n",
       "    }\n",
       "\n",
       "    .dataframe thead th {\n",
       "        text-align: right;\n",
       "    }\n",
       "</style>\n",
       "<table border=\"1\" class=\"dataframe\">\n",
       "  <thead>\n",
       "    <tr style=\"text-align: right;\">\n",
       "      <th></th>\n",
       "      <th>Fecha</th>\n",
       "      <th>Temperatura</th>\n",
       "      <th>Precipitación</th>\n",
       "      <th>Humedad</th>\n",
       "    </tr>\n",
       "  </thead>\n",
       "  <tbody>\n",
       "    <tr>\n",
       "      <th>0</th>\n",
       "      <td>01/01/2010</td>\n",
       "      <td>17.440675</td>\n",
       "      <td>10.957482</td>\n",
       "      <td>52.384637</td>\n",
       "    </tr>\n",
       "    <tr>\n",
       "      <th>1</th>\n",
       "      <td>02/01/2010</td>\n",
       "      <td>25.759468</td>\n",
       "      <td>5.315628</td>\n",
       "      <td>30.633530</td>\n",
       "    </tr>\n",
       "    <tr>\n",
       "      <th>2</th>\n",
       "      <td>03/01/2010</td>\n",
       "      <td>20.138169</td>\n",
       "      <td>15.317706</td>\n",
       "      <td>41.496715</td>\n",
       "    </tr>\n",
       "    <tr>\n",
       "      <th>3</th>\n",
       "      <td>04/01/2010</td>\n",
       "      <td>17.244159</td>\n",
       "      <td>13.151008</td>\n",
       "      <td>90.684704</td>\n",
       "    </tr>\n",
       "    <tr>\n",
       "      <th>4</th>\n",
       "      <td>05/01/2010</td>\n",
       "      <td>11.182740</td>\n",
       "      <td>16.413667</td>\n",
       "      <td>22.116422</td>\n",
       "    </tr>\n",
       "    <tr>\n",
       "      <th>...</th>\n",
       "      <td>...</td>\n",
       "      <td>...</td>\n",
       "      <td>...</td>\n",
       "      <td>...</td>\n",
       "    </tr>\n",
       "    <tr>\n",
       "      <th>5105</th>\n",
       "      <td>24/12/2023</td>\n",
       "      <td>-9.554692</td>\n",
       "      <td>12.700998</td>\n",
       "      <td>50.094533</td>\n",
       "    </tr>\n",
       "    <tr>\n",
       "      <th>5106</th>\n",
       "      <td>25/12/2023</td>\n",
       "      <td>2.837831</td>\n",
       "      <td>5.475686</td>\n",
       "      <td>92.456057</td>\n",
       "    </tr>\n",
       "    <tr>\n",
       "      <th>5107</th>\n",
       "      <td>26/12/2023</td>\n",
       "      <td>29.873597</td>\n",
       "      <td>4.615012</td>\n",
       "      <td>18.362847</td>\n",
       "    </tr>\n",
       "    <tr>\n",
       "      <th>5108</th>\n",
       "      <td>27/12/2023</td>\n",
       "      <td>NaN</td>\n",
       "      <td>NaN</td>\n",
       "      <td>NaN</td>\n",
       "    </tr>\n",
       "    <tr>\n",
       "      <th>5109</th>\n",
       "      <td>28/12/2023</td>\n",
       "      <td>37.308043</td>\n",
       "      <td>7.330510</td>\n",
       "      <td>50.646211</td>\n",
       "    </tr>\n",
       "  </tbody>\n",
       "</table>\n",
       "<p>5110 rows × 4 columns</p>\n",
       "</div>"
      ],
      "text/plain": [
       "           Fecha  Temperatura  Precipitación    Humedad\n",
       "0     01/01/2010    17.440675      10.957482  52.384637\n",
       "1     02/01/2010    25.759468       5.315628  30.633530\n",
       "2     03/01/2010    20.138169      15.317706  41.496715\n",
       "3     04/01/2010    17.244159      13.151008  90.684704\n",
       "4     05/01/2010    11.182740      16.413667  22.116422\n",
       "...          ...          ...            ...        ...\n",
       "5105  24/12/2023    -9.554692      12.700998  50.094533\n",
       "5106  25/12/2023     2.837831       5.475686  92.456057\n",
       "5107  26/12/2023    29.873597       4.615012  18.362847\n",
       "5108  27/12/2023          NaN            NaN        NaN\n",
       "5109  28/12/2023    37.308043       7.330510  50.646211\n",
       "\n",
       "[5110 rows x 4 columns]"
      ]
     },
     "execution_count": 87,
     "metadata": {},
     "output_type": "execute_result"
    }
   ],
   "source": [
    "import pandas as pd \n",
    "import numpy as np\n",
    "\n",
    "ruta = \"C:/Users/KeythiCL/Downloads/datos_meteorologicos.csv\"\n",
    "df = pd.read_csv(ruta)\n",
    "df"
   ]
  },
  {
   "cell_type": "markdown",
   "id": "bd5ba486",
   "metadata": {},
   "source": [
    "### 2. Realizar observaciones iniciales de los datos con Pandas."
   ]
  },
  {
   "cell_type": "code",
   "execution_count": 90,
   "id": "f6fb247d",
   "metadata": {
    "scrolled": true
   },
   "outputs": [
    {
     "name": "stdout",
     "output_type": "stream",
     "text": [
      "<class 'pandas.core.frame.DataFrame'>\n",
      "RangeIndex: 5110 entries, 0 to 5109\n",
      "Data columns (total 4 columns):\n",
      " #   Column         Non-Null Count  Dtype  \n",
      "---  ------         --------------  -----  \n",
      " 0   Fecha          5110 non-null   object \n",
      " 1   Temperatura    4855 non-null   float64\n",
      " 2   Precipitación  4855 non-null   float64\n",
      " 3   Humedad        4855 non-null   float64\n",
      "dtypes: float64(3), object(1)\n",
      "memory usage: 159.8+ KB\n"
     ]
    },
    {
     "data": {
      "text/plain": [
       "Fecha              0\n",
       "Temperatura      255\n",
       "Precipitación    255\n",
       "Humedad          255\n",
       "dtype: int64"
      ]
     },
     "execution_count": 90,
     "metadata": {},
     "output_type": "execute_result"
    }
   ],
   "source": [
    "df.head()\n",
    "df.tail()\n",
    "df.shape\n",
    "df.columns\n",
    "df.info()\n",
    "df.describe()\n",
    "df.isnull()\n",
    "df.isnull().sum()"
   ]
  },
  {
   "cell_type": "markdown",
   "id": "9a6f36ea",
   "metadata": {},
   "source": [
    "### 3. Convertir las columnas del DataFrame en arrays de NumPy."
   ]
  },
  {
   "cell_type": "code",
   "execution_count": 93,
   "id": "04ee9183",
   "metadata": {},
   "outputs": [
    {
     "data": {
      "text/plain": [
       "array([17.4406752 , 25.75946832, 20.1381688 , ..., 29.87359717,\n",
       "               nan, 37.30804318])"
      ]
     },
     "execution_count": 93,
     "metadata": {},
     "output_type": "execute_result"
    }
   ],
   "source": [
    "temperatura = df['Temperatura'].to_numpy()\n",
    "precipitacion = df['Precipitación'].to_numpy()\n",
    "humedad = df['Humedad'].to_numpy()\n",
    "\n",
    "temperatura"
   ]
  },
  {
   "cell_type": "markdown",
   "id": "ea34bb17",
   "metadata": {},
   "source": [
    "### 4. Identificar los datos faltantes en los arrays, y reemplazarlos por el promedio de los valores del respectivo array."
   ]
  },
  {
   "cell_type": "code",
   "execution_count": 96,
   "id": "65f3ba49",
   "metadata": {},
   "outputs": [
    {
     "data": {
      "text/plain": [
       "array([False, False, False, ..., False,  True, False])"
      ]
     },
     "execution_count": 96,
     "metadata": {},
     "output_type": "execute_result"
    }
   ],
   "source": [
    "# Identificar datos faltantes con isnan()\n",
    "temp_nulo = np.isnan(temperatura)\n",
    "precip_nulo = np.isnan(precipitacion)\n",
    "humed_nulo = np.isnan(humedad)\n",
    "\n",
    "temp_nulo"
   ]
  },
  {
   "cell_type": "code",
   "execution_count": 101,
   "id": "49f0df6e-7d50-45a7-a9d7-bd34b3ba9951",
   "metadata": {},
   "outputs": [
    {
     "data": {
      "text/plain": [
       "array([17.4406752 , 25.75946832, 20.1381688 , ..., 29.87359717,\n",
       "       14.88929572, 37.30804318])"
      ]
     },
     "execution_count": 101,
     "metadata": {},
     "output_type": "execute_result"
    }
   ],
   "source": [
    "# Identificar el promedio de cada array\n",
    "temp_promedio = np.nanmean(temperatura)\n",
    "precip_promedio = np.nanmean(precipitacion)\n",
    "humed_promedio = np.nanmean(humedad)\n",
    "\n",
    "# Reemplazar los valores nulos con el promedio del array\n",
    "temperatura[temp_nulo] = temp_promedio\n",
    "precipitacion[precip_nulo] = precip_promedio\n",
    "humedad[humed_nulo] = humed_promedio\n",
    "\n",
    "temperatura"
   ]
  },
  {
   "cell_type": "code",
   "execution_count": 113,
   "id": "c13d1898-b326-48dd-b34a-99efc26dd6dd",
   "metadata": {},
   "outputs": [
    {
     "data": {
      "text/plain": [
       "array([10.957482  ,  5.31562765, 15.31770609, ...,  4.61501177,\n",
       "        9.9016036 ,  7.33051023])"
      ]
     },
     "execution_count": 113,
     "metadata": {},
     "output_type": "execute_result"
    }
   ],
   "source": [
    "# Abordaje alternativo para lograr el mismo resultado\n",
    "temp_corregido = np.where(np.isnan(temperatura), temp_promedio, temperatura)\n",
    "pres_corregido = np.where(np.isnan(precipitacion), precip_promedio, precipitacion)\n",
    "hum_corregido = np.where(np.isnan(humedad), humed_promedio, precipitacion)\n",
    "hum_corregido"
   ]
  },
  {
   "cell_type": "markdown",
   "id": "e9cc83f2",
   "metadata": {},
   "source": [
    "### 5. Realizar análisis estadísticos básicos.\n",
    "\n",
    "##### Temperatura promedio"
   ]
  },
  {
   "cell_type": "code",
   "execution_count": 107,
   "id": "35631de2",
   "metadata": {},
   "outputs": [
    {
     "data": {
      "text/plain": [
       "14.889295723531713"
      ]
     },
     "execution_count": 107,
     "metadata": {},
     "output_type": "execute_result"
    }
   ],
   "source": [
    "temperatura_promedio = temp_corregido.mean()\n",
    "temperatura_promedio"
   ]
  },
  {
   "cell_type": "markdown",
   "id": "3d5b50ca",
   "metadata": {},
   "source": [
    "##### Total de precipitaciones"
   ]
  },
  {
   "cell_type": "code",
   "execution_count": 111,
   "id": "55ea942d",
   "metadata": {},
   "outputs": [
    {
     "data": {
      "text/plain": [
       "50597.19438939993"
      ]
     },
     "execution_count": 111,
     "metadata": {},
     "output_type": "execute_result"
    }
   ],
   "source": [
    "total_pres = pres_corregido.sum()\n",
    "total_pres"
   ]
  },
  {
   "cell_type": "markdown",
   "id": "37408d44",
   "metadata": {},
   "source": [
    "##### Máxima humedad registrada"
   ]
  },
  {
   "cell_type": "code",
   "execution_count": 117,
   "id": "915e24c5",
   "metadata": {},
   "outputs": [
    {
     "data": {
      "text/plain": [
       "99.99658156071747"
      ]
     },
     "execution_count": 117,
     "metadata": {},
     "output_type": "execute_result"
    }
   ],
   "source": [
    "humedad_max = np.max(humedad)\n",
    "humedad_max"
   ]
  },
  {
   "cell_type": "markdown",
   "id": "feabf8f5",
   "metadata": {},
   "source": [
    "##### Fecha más calurosa"
   ]
  },
  {
   "cell_type": "code",
   "execution_count": 119,
   "id": "bedde039",
   "metadata": {},
   "outputs": [
    {
     "data": {
      "text/plain": [
       "39.99820092713012"
      ]
     },
     "execution_count": 119,
     "metadata": {},
     "output_type": "execute_result"
    }
   ],
   "source": [
    "# Identificar la temperatura más alta\n",
    "mas_calor = np.max(temperatura)\n",
    "mas_calor"
   ]
  },
  {
   "cell_type": "code",
   "execution_count": 121,
   "id": "54d09ab0-dea8-44e5-b919-f2a88a61d442",
   "metadata": {},
   "outputs": [
    {
     "data": {
      "text/plain": [
       "2749"
      ]
     },
     "execution_count": 121,
     "metadata": {},
     "output_type": "execute_result"
    }
   ],
   "source": [
    "# Registro correspondiente a la temperatura más alta\n",
    "registro_mas_caluroso = np.where(temperatura == mas_calor)[0][0]\n",
    "registro_mas_caluroso"
   ]
  },
  {
   "cell_type": "code",
   "execution_count": 123,
   "id": "af99dc3d-d4e0-4bbb-a2b6-bf56e7d80467",
   "metadata": {},
   "outputs": [
    {
     "data": {
      "text/plain": [
       "'12/07/2017'"
      ]
     },
     "execution_count": 123,
     "metadata": {},
     "output_type": "execute_result"
    }
   ],
   "source": [
    "# Fecha correspondiente al registro más caluroso\n",
    "fecha_mas_calurosa = df.iloc[registro_mas_caluroso]['Fecha']\n",
    "fecha_mas_calurosa"
   ]
  },
  {
   "cell_type": "code",
   "execution_count": 135,
   "id": "710dcbb7-795b-4dcb-bbb9-7c6ae9b2ca8e",
   "metadata": {},
   "outputs": [
    {
     "name": "stdout",
     "output_type": "stream",
     "text": [
      "12/07/2017\n"
     ]
    }
   ],
   "source": [
    "fila_max_temp = df.loc[df['Temperatura'].idxmax()]  # Obtiene la fila con la temp. máxima\n",
    "fecha_max = fila_max_temp['Fecha']  # Obtiene la fecha correspondiente\n",
    "\n",
    "print(fecha_max)"
   ]
  },
  {
   "cell_type": "markdown",
   "id": "f30a99e0",
   "metadata": {},
   "source": [
    "##### Fehca más fría"
   ]
  },
  {
   "cell_type": "code",
   "execution_count": 139,
   "id": "68f820f0",
   "metadata": {},
   "outputs": [
    {
     "name": "stdout",
     "output_type": "stream",
     "text": [
      "23/07/2020\n"
     ]
    }
   ],
   "source": [
    "fila_fria_temp = df.loc[df['Temperatura'].idxmin()]  # Obtiene la fila con la temp. máxima\n",
    "fecha_min = fila_fria_temp['Fecha']  # Obtiene la fecha correspondiente\n",
    "\n",
    "print(fecha_min)"
   ]
  },
  {
   "cell_type": "markdown",
   "id": "ff7d173c",
   "metadata": {},
   "source": [
    "### 6. Exportar los resultados a un nuevo archivo CSV."
   ]
  },
  {
   "cell_type": "code",
   "execution_count": 141,
   "id": "e0cdfaee",
   "metadata": {},
   "outputs": [],
   "source": [
    "# Crear un DataFrame con los resultados\n",
    "resultados = pd.DataFrame({\n",
    "    'Metrica': ['Temperatura Promedio', 'Precipitación Total', 'Humedad Máxima', 'Día Más Caluroso', 'Día Más Frío'],\n",
    "    'Valor': [temperatura_promedio, total_pres , humedad_max, fecha_max, fecha_min]\n",
    "})\n",
    "\n",
    "# Guardar los resultados en un nuevo archivo CSV\n",
    "resultados.to_csv('C:/Users/KeythiCL/Downloads/resultados.csv', index=False)"
   ]
  },
  {
   "cell_type": "code",
   "execution_count": null,
   "id": "793618ec-2907-4c3c-a9dc-3939652401e7",
   "metadata": {},
   "outputs": [],
   "source": []
  }
 ],
 "metadata": {
  "kernelspec": {
   "display_name": "Python [conda env:base] *",
   "language": "python",
   "name": "conda-base-py"
  },
  "language_info": {
   "codemirror_mode": {
    "name": "ipython",
    "version": 3
   },
   "file_extension": ".py",
   "mimetype": "text/x-python",
   "name": "python",
   "nbconvert_exporter": "python",
   "pygments_lexer": "ipython3",
   "version": "3.12.7"
  }
 },
 "nbformat": 4,
 "nbformat_minor": 5
}
