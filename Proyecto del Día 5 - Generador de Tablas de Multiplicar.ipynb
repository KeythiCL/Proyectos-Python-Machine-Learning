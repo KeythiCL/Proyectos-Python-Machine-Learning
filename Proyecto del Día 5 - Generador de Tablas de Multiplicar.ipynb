{
 "cells": [
  {
   "cell_type": "markdown",
   "id": "a948c51c",
   "metadata": {},
   "source": [
    "# Proyecto del Día 5: Generador de Tablas de Multiplicar"
   ]
  },
  {
   "cell_type": "markdown",
   "id": "e8159936",
   "metadata": {},
   "source": [
    "\n",
    "Este proyecto de Python permite al usuario generar tablas de multiplicar para cualquier número y hasta un límite específico de multiplicación.\n",
    "\n",
    "## Consigna\n",
    "Vas a crear un código que le pida al usuario un **número para multiplicar**, y un **número límite** para establecer hasta cuánto lo vamos a multiplicar.\n",
    "\n",
    "Por ejemplo, si el usuario elige:\n",
    "- Número: 5\n",
    "- Límite: 3\n",
    "\n",
    "El programa le devolverá:\n",
    "```\n",
    "5 x 1 = 5\n",
    "5 x 2 = 10\n",
    "5 x 3 = 15\n",
    "````\n",
    "\n",
    "Cuando el programa termine de mostrar los resultados, debe preguntarle al usuario si desea calcular otra tabla, o finalizar el programa.\n",
    "\n",
    "**Recomendaciones**:\n",
    "- Crear una función que se encargue de calcular las tablas\n",
    "- Crear una función global que se encargue de:\n",
    "    - Solicitar al usuario un número para generar su tabla de multiplicar.\n",
    "    - Pedir el límite hasta donde se quiere llegar en la multiplicación.\n",
    "    - Llamar a la función que crea las tablas\n",
    "    \n",
    "- Emplear bucles `for` y la función `range` para la lógica de la tabla.\n",
    "- Implementar un bucle `while` para que el usuario pueda generar múltiples tablas o salir del programa.\n"
   ]
  },
  {
   "cell_type": "code",
   "execution_count": 21,
   "id": "39ac3e8e",
   "metadata": {},
   "outputs": [
    {
     "name": "stdout",
     "output_type": "stream",
     "text": [
      "2 x 1 = 2\n",
      "2 x 2 = 4\n",
      "2 x 3 = 6\n"
     ]
    }
   ],
   "source": [
    "def calcular_tabla(n, l):\n",
    "    contador = 0  \n",
    "    limite = l  \n",
    "    \n",
    "    while contador < limite:  \n",
    "        contador += 1  \n",
    "        multiplicar = n * contador  \n",
    "        print(f\"{n} x {contador} = {multiplicar}\")  \n",
    "\n",
    "calcular_tabla(2, 3)"
   ]
  },
  {
   "cell_type": "code",
   "execution_count": 23,
   "id": "1d64997f-6889-4d3f-877d-c5ebca03b838",
   "metadata": {},
   "outputs": [
    {
     "name": "stdout",
     "output_type": "stream",
     "text": [
      "2 x 1 = 2\n",
      "2 x 2 = 4\n",
      "2 x 3 = 6\n"
     ]
    }
   ],
   "source": [
    "def calcular_tabla2(n, l):\n",
    "    contador = 0 \n",
    "    for i in range(1, l + 1):  \n",
    "        contador += 1  \n",
    "        if i <= l: \n",
    "            multiplicar = n * i \n",
    "            print(f\"{n} x {i} = {multiplicar}\")  \n",
    "\n",
    "calcular_tabla(2, 3)"
   ]
  },
  {
   "cell_type": "code",
   "execution_count": 25,
   "id": "115517b7-1c67-4ce0-b379-11fa4145e72f",
   "metadata": {},
   "outputs": [],
   "source": [
    "def calcular():\n",
    "    numero = int(input(\"Ingrese un numero\"))\n",
    "    limite = int(input(\"Ingrese su limite\"))\n",
    "    calcular_tabla(numero, limite)"
   ]
  },
  {
   "cell_type": "code",
   "execution_count": 27,
   "id": "32919ce8-e7f3-4808-99c9-5ae8f5e3fc2e",
   "metadata": {},
   "outputs": [
    {
     "name": "stdin",
     "output_type": "stream",
     "text": [
      "Ingrese un numero 4\n",
      "Ingrese su limite 2\n"
     ]
    },
    {
     "name": "stdout",
     "output_type": "stream",
     "text": [
      "4 x 1 = 4\n",
      "4 x 2 = 8\n"
     ]
    }
   ],
   "source": [
    "calcular()"
   ]
  },
  {
   "cell_type": "code",
   "execution_count": 39,
   "id": "2f480fa3-f2bb-4ccf-8f0b-2dc89f2d06d0",
   "metadata": {},
   "outputs": [
    {
     "name": "stdout",
     "output_type": "stream",
     "text": [
      "1- Calcular una tabla\n",
      "2-Salir\n"
     ]
    },
    {
     "name": "stdin",
     "output_type": "stream",
     "text": [
      "Por favor presione 1 o 2:  2\n"
     ]
    }
   ],
   "source": [
    "respuesta = \"\"\n",
    "while respuesta != \"2\":\n",
    "    print(\"1- Calcular una tabla\\n2- Salir\")\n",
    "    respuesta = input(\"Por favor presione 1 o 2: \")\n",
    "    if respuesta == \"1\":\n",
    "        calcular()\n",
    "    elif respuesta == \"2\":\n",
    "        break\n",
    "    else:\n",
    "        print(\"Presione 1 o 2: \")"
   ]
  },
  {
   "cell_type": "markdown",
   "id": "2c32c5c0-5bcb-406e-9f40-3bcb0adfc032",
   "metadata": {},
   "source": [
    "----\n",
    "### SEGUNDA FORMA DE HACERLO"
   ]
  },
  {
   "cell_type": "code",
   "execution_count": 43,
   "id": "c91adb60-d2b9-4bc3-a8fb-f88c2a1a0d4e",
   "metadata": {},
   "outputs": [],
   "source": [
    "def generar_tablas(numero, limite):\n",
    "    for n in range(1, limite+ 1):\n",
    "        print(f\"{numero} X {n} = {numero * n}\")"
   ]
  },
  {
   "cell_type": "code",
   "execution_count": 45,
   "id": "715c341f-339c-4916-9ae3-257d5bf1aec1",
   "metadata": {},
   "outputs": [],
   "source": [
    "def inicio():\n",
    "    while True:\n",
    "        print(\"\\nGenerador de Tablas de Multiplicar\\n\")\n",
    "        num = int(input(\"Ingrese el número que desea multiplicar: \"))\n",
    "        lim = int(input(\"Ingrese la cantidad de veces que desea multiplicarlo: \"))\n",
    "        \n",
    "        generar_tablas(num, lim)\n",
    "        \n",
    "        otra = input(\"¿Quiere calcular más tablas? (s/n):\")\n",
    "        if otra.lower() != \"s\":\n",
    "            break"
   ]
  },
  {
   "cell_type": "code",
   "execution_count": 47,
   "id": "43882273-7f46-463d-86c3-76da9691a02f",
   "metadata": {},
   "outputs": [
    {
     "name": "stdout",
     "output_type": "stream",
     "text": [
      "\n",
      "Generador de Tablas de Multiplicar\n",
      "\n"
     ]
    },
    {
     "name": "stdin",
     "output_type": "stream",
     "text": [
      "Ingrese el número que desea multiplicar:  2\n",
      "Ingrese la cantidad de veces que desea multiplicarlo:  2\n"
     ]
    },
    {
     "name": "stdout",
     "output_type": "stream",
     "text": [
      "2 X 1 = 2\n",
      "2 X 2 = 4\n"
     ]
    },
    {
     "name": "stdin",
     "output_type": "stream",
     "text": [
      "¿Quiere calcular más tablas? (s/n): n\n"
     ]
    }
   ],
   "source": [
    "inicio()"
   ]
  }
 ],
 "metadata": {
  "kernelspec": {
   "display_name": "Python 3 (ipykernel)",
   "language": "python",
   "name": "python3"
  },
  "language_info": {
   "codemirror_mode": {
    "name": "ipython",
    "version": 3
   },
   "file_extension": ".py",
   "mimetype": "text/x-python",
   "name": "python",
   "nbconvert_exporter": "python",
   "pygments_lexer": "ipython3",
   "version": "3.12.7"
  }
 },
 "nbformat": 4,
 "nbformat_minor": 5
}
