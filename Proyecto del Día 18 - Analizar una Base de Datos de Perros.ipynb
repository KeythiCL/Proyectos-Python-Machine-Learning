{
 "cells": [
  {
   "cell_type": "markdown",
   "id": "5e2326e5",
   "metadata": {},
   "source": [
    "# Proyecto del Día 18 - Analizar una Base de Datos de Perros\n",
    "\n",
    "Hoy vamos a realizar un proyecto muy entretenido, que consiste en conseguir un dataset sobre razas de perros, que se encuentra alojada en el sitio [The Dog Api](https://thedogapi.com/).\n",
    "\n",
    "Tu misión consiste en lograr obtener un dataset que contiene información sobre razas de perro (\"breeds\"), y crear visualizaciones que permitan responder algunas preguntas sobre la **expectativa de vida**, y el **temperamento** más frecuente entre todas las **razas**.\n",
    "\n",
    "\n",
    "### Preguntas a responder\n",
    "1. ¿Cuál es la esperanza de vida (en años) más frecuente entre todas las razas de perro?\n",
    "2. ¿Cuál es el temperamento más frecuente entre todas las razas de perros?\n",
    "\n",
    "\n",
    "### Pasos sugeridos para llegar hasta la respuesta\n",
    "1. Descarga las **librerías** necesarias.\n",
    "2. Explora el sitio [https://thedogapi.com/](https://thedogapi.com/) para identificar dónde y cómo se describe el funcionamiento de su API. Identifica la **API específica** con información sobre **razas** (\"breeds\"). Una vez que lo hagas, implementa la API y guarda esos datos en un **DataFrame** de Pandas.\n",
    "*Nota: como todo sitio nuevo al que enfrentes, deberás resolver desafíos particulares. En este caso presta atención a las instrucciones que mencionan algo sobre cómo usar los mismos protocolos que se utilizan en la API de gatos de la misma organización*.\n",
    "3. Realiza un **análisis exploratorio** para conocer la estrucutra y calidad de tus datos.\n",
    "4. Implementa la **limpieza de datos** que consideres necesaria.\n",
    "5. Crea los **gráficos** que creas necesarios para poder visualizar con claridad la respuesta a las preguntas.\n",
    "\n",
    "Te deseo mucho aprendizaje, pero sobre todo, mucha diversión.\n",
    "¡Adelante!"
   ]
  },
  {
   "cell_type": "markdown",
   "id": "d3d63835-256f-4955-9896-8917499a27c6",
   "metadata": {},
   "source": [
    "## 1. Descarga las librerías necesarias."
   ]
  },
  {
   "cell_type": "code",
   "execution_count": 3,
   "id": "edde8172-0879-47a7-9f9e-140951fb6b09",
   "metadata": {},
   "outputs": [],
   "source": [
    "import requests\n",
    "import pandas as pd\n",
    "import matplotlib.pyplot as plt\n",
    "import seaborn as sns"
   ]
  },
  {
   "cell_type": "markdown",
   "id": "1df93650-bfd6-4870-9fe1-a1e94d63a5a6",
   "metadata": {},
   "source": [
    "## 2. Explora el sitio https://thedogapi.com/ para identificar dónde y cómo se describe el funcionamiento de su API. \n",
    "Identifica la API específica con información sobre razas (\"breeds\"). Una vez que lo hagas, implementa la API y guarda esos datos en un DataFrame de Pandas. Nota: como todo sitio nuevo al que enfrentes, deberás resolver desafíos particulares. En este caso presta atención a las instrucciones que mencionan algo sobre cómo usar los mismos protocolos que se utilizan en la API de gatos de la misma organización."
   ]
  },
  {
   "cell_type": "code",
   "execution_count": 4,
   "id": "fe6517f6",
   "metadata": {},
   "outputs": [],
   "source": [
    "url = 'https://api.thedogapi.com/v1/breeds'\n",
    "# Cada raza tiene un identificador único de 4 caracteres que se puede usar para filtrar una búsqueda. Este breed.id está disponible enumerando \n",
    "# todas las razas a través de https://api.thecatapi.com/v1/breeds Y LO CAMBIE POR THE DOG\n",
    "respuesta = requests.get(url)\n",
    "data = respuesta.json()"
   ]
  },
  {
   "cell_type": "code",
   "execution_count": 5,
   "id": "3fc9db57-995c-4881-bea1-c7d2628f8917",
   "metadata": {},
   "outputs": [
    {
     "data": {
      "text/html": [
       "<div>\n",
       "<style scoped>\n",
       "    .dataframe tbody tr th:only-of-type {\n",
       "        vertical-align: middle;\n",
       "    }\n",
       "\n",
       "    .dataframe tbody tr th {\n",
       "        vertical-align: top;\n",
       "    }\n",
       "\n",
       "    .dataframe thead th {\n",
       "        text-align: right;\n",
       "    }\n",
       "</style>\n",
       "<table border=\"1\" class=\"dataframe\">\n",
       "  <thead>\n",
       "    <tr style=\"text-align: right;\">\n",
       "      <th></th>\n",
       "      <th>weight</th>\n",
       "      <th>height</th>\n",
       "      <th>id</th>\n",
       "      <th>name</th>\n",
       "      <th>bred_for</th>\n",
       "      <th>breed_group</th>\n",
       "      <th>life_span</th>\n",
       "      <th>temperament</th>\n",
       "      <th>origin</th>\n",
       "      <th>reference_image_id</th>\n",
       "      <th>country_code</th>\n",
       "      <th>description</th>\n",
       "      <th>history</th>\n",
       "    </tr>\n",
       "  </thead>\n",
       "  <tbody>\n",
       "    <tr>\n",
       "      <th>0</th>\n",
       "      <td>{'imperial': '6 - 13', 'metric': '3 - 6'}</td>\n",
       "      <td>{'imperial': '9 - 11.5', 'metric': '23 - 29'}</td>\n",
       "      <td>1</td>\n",
       "      <td>Affenpinscher</td>\n",
       "      <td>Small rodent hunting, lapdog</td>\n",
       "      <td>Toy</td>\n",
       "      <td>10 - 12 years</td>\n",
       "      <td>Stubborn, Curious, Playful, Adventurous, Activ...</td>\n",
       "      <td>Germany, France</td>\n",
       "      <td>BJa4kxc4X</td>\n",
       "      <td>NaN</td>\n",
       "      <td>NaN</td>\n",
       "      <td>NaN</td>\n",
       "    </tr>\n",
       "    <tr>\n",
       "      <th>1</th>\n",
       "      <td>{'imperial': '50 - 60', 'metric': '23 - 27'}</td>\n",
       "      <td>{'imperial': '25 - 27', 'metric': '64 - 69'}</td>\n",
       "      <td>2</td>\n",
       "      <td>Afghan Hound</td>\n",
       "      <td>Coursing and hunting</td>\n",
       "      <td>Hound</td>\n",
       "      <td>10 - 13 years</td>\n",
       "      <td>Aloof, Clownish, Dignified, Independent, Happy</td>\n",
       "      <td>Afghanistan, Iran, Pakistan</td>\n",
       "      <td>hMyT4CDXR</td>\n",
       "      <td>AG</td>\n",
       "      <td>NaN</td>\n",
       "      <td>NaN</td>\n",
       "    </tr>\n",
       "    <tr>\n",
       "      <th>2</th>\n",
       "      <td>{'imperial': '44 - 66', 'metric': '20 - 30'}</td>\n",
       "      <td>{'imperial': '30', 'metric': '76'}</td>\n",
       "      <td>3</td>\n",
       "      <td>African Hunting Dog</td>\n",
       "      <td>A wild pack animal</td>\n",
       "      <td>NaN</td>\n",
       "      <td>11 years</td>\n",
       "      <td>Wild, Hardworking, Dutiful</td>\n",
       "      <td></td>\n",
       "      <td>rkiByec47</td>\n",
       "      <td>NaN</td>\n",
       "      <td>NaN</td>\n",
       "      <td>NaN</td>\n",
       "    </tr>\n",
       "    <tr>\n",
       "      <th>3</th>\n",
       "      <td>{'imperial': '40 - 65', 'metric': '18 - 29'}</td>\n",
       "      <td>{'imperial': '21 - 23', 'metric': '53 - 58'}</td>\n",
       "      <td>4</td>\n",
       "      <td>Airedale Terrier</td>\n",
       "      <td>Badger, otter hunting</td>\n",
       "      <td>Terrier</td>\n",
       "      <td>10 - 13 years</td>\n",
       "      <td>Outgoing, Friendly, Alert, Confident, Intellig...</td>\n",
       "      <td>United Kingdom, England</td>\n",
       "      <td>1-7cgoZSh</td>\n",
       "      <td>NaN</td>\n",
       "      <td>NaN</td>\n",
       "      <td>NaN</td>\n",
       "    </tr>\n",
       "    <tr>\n",
       "      <th>4</th>\n",
       "      <td>{'imperial': '90 - 120', 'metric': '41 - 54'}</td>\n",
       "      <td>{'imperial': '28 - 34', 'metric': '71 - 86'}</td>\n",
       "      <td>5</td>\n",
       "      <td>Akbash Dog</td>\n",
       "      <td>Sheep guarding</td>\n",
       "      <td>Working</td>\n",
       "      <td>10 - 12 years</td>\n",
       "      <td>Loyal, Independent, Intelligent, Brave</td>\n",
       "      <td></td>\n",
       "      <td>26pHT3Qk7</td>\n",
       "      <td>NaN</td>\n",
       "      <td>NaN</td>\n",
       "      <td>NaN</td>\n",
       "    </tr>\n",
       "  </tbody>\n",
       "</table>\n",
       "</div>"
      ],
      "text/plain": [
       "                                          weight  \\\n",
       "0      {'imperial': '6 - 13', 'metric': '3 - 6'}   \n",
       "1   {'imperial': '50 - 60', 'metric': '23 - 27'}   \n",
       "2   {'imperial': '44 - 66', 'metric': '20 - 30'}   \n",
       "3   {'imperial': '40 - 65', 'metric': '18 - 29'}   \n",
       "4  {'imperial': '90 - 120', 'metric': '41 - 54'}   \n",
       "\n",
       "                                          height  id                 name  \\\n",
       "0  {'imperial': '9 - 11.5', 'metric': '23 - 29'}   1        Affenpinscher   \n",
       "1   {'imperial': '25 - 27', 'metric': '64 - 69'}   2         Afghan Hound   \n",
       "2             {'imperial': '30', 'metric': '76'}   3  African Hunting Dog   \n",
       "3   {'imperial': '21 - 23', 'metric': '53 - 58'}   4     Airedale Terrier   \n",
       "4   {'imperial': '28 - 34', 'metric': '71 - 86'}   5           Akbash Dog   \n",
       "\n",
       "                       bred_for breed_group      life_span  \\\n",
       "0  Small rodent hunting, lapdog         Toy  10 - 12 years   \n",
       "1          Coursing and hunting       Hound  10 - 13 years   \n",
       "2            A wild pack animal         NaN       11 years   \n",
       "3         Badger, otter hunting     Terrier  10 - 13 years   \n",
       "4                Sheep guarding     Working  10 - 12 years   \n",
       "\n",
       "                                         temperament  \\\n",
       "0  Stubborn, Curious, Playful, Adventurous, Activ...   \n",
       "1     Aloof, Clownish, Dignified, Independent, Happy   \n",
       "2                         Wild, Hardworking, Dutiful   \n",
       "3  Outgoing, Friendly, Alert, Confident, Intellig...   \n",
       "4             Loyal, Independent, Intelligent, Brave   \n",
       "\n",
       "                        origin reference_image_id country_code description  \\\n",
       "0              Germany, France          BJa4kxc4X          NaN         NaN   \n",
       "1  Afghanistan, Iran, Pakistan          hMyT4CDXR           AG         NaN   \n",
       "2                                       rkiByec47          NaN         NaN   \n",
       "3      United Kingdom, England          1-7cgoZSh          NaN         NaN   \n",
       "4                                       26pHT3Qk7          NaN         NaN   \n",
       "\n",
       "  history  \n",
       "0     NaN  \n",
       "1     NaN  \n",
       "2     NaN  \n",
       "3     NaN  \n",
       "4     NaN  "
      ]
     },
     "execution_count": 5,
     "metadata": {},
     "output_type": "execute_result"
    }
   ],
   "source": [
    "df = pd.DataFrame(data)\n",
    "df.head()"
   ]
  },
  {
   "cell_type": "markdown",
   "id": "e234b3d6-322c-429e-940d-2760df74dff9",
   "metadata": {},
   "source": [
    "## 3. Realiza un análisis exploratorio para conocer la estrucutra y calidad de tus datos."
   ]
  },
  {
   "cell_type": "code",
   "execution_count": 6,
   "id": "7f99f084-f374-4470-a765-e9f9d1dd5127",
   "metadata": {},
   "outputs": [
    {
     "name": "stdout",
     "output_type": "stream",
     "text": [
      "<class 'pandas.core.frame.DataFrame'>\n",
      "RangeIndex: 172 entries, 0 to 171\n",
      "Data columns (total 13 columns):\n",
      " #   Column              Non-Null Count  Dtype \n",
      "---  ------              --------------  ----- \n",
      " 0   weight              172 non-null    object\n",
      " 1   height              172 non-null    object\n",
      " 2   id                  172 non-null    int64 \n",
      " 3   name                172 non-null    object\n",
      " 4   bred_for            151 non-null    object\n",
      " 5   breed_group         156 non-null    object\n",
      " 6   life_span           172 non-null    object\n",
      " 7   temperament         168 non-null    object\n",
      " 8   origin              5 non-null      object\n",
      " 9   reference_image_id  172 non-null    object\n",
      " 10  country_code        12 non-null     object\n",
      " 11  description         1 non-null      object\n",
      " 12  history             2 non-null      object\n",
      "dtypes: int64(1), object(12)\n",
      "memory usage: 17.6+ KB\n"
     ]
    }
   ],
   "source": [
    "df.info()"
   ]
  },
  {
   "cell_type": "code",
   "execution_count": 7,
   "id": "bc52ef7c-e621-4758-bcee-4f6bdffd2948",
   "metadata": {},
   "outputs": [
    {
     "data": {
      "text/html": [
       "<div>\n",
       "<style scoped>\n",
       "    .dataframe tbody tr th:only-of-type {\n",
       "        vertical-align: middle;\n",
       "    }\n",
       "\n",
       "    .dataframe tbody tr th {\n",
       "        vertical-align: top;\n",
       "    }\n",
       "\n",
       "    .dataframe thead th {\n",
       "        text-align: right;\n",
       "    }\n",
       "</style>\n",
       "<table border=\"1\" class=\"dataframe\">\n",
       "  <thead>\n",
       "    <tr style=\"text-align: right;\">\n",
       "      <th></th>\n",
       "      <th>id</th>\n",
       "    </tr>\n",
       "  </thead>\n",
       "  <tbody>\n",
       "    <tr>\n",
       "      <th>count</th>\n",
       "      <td>172.000000</td>\n",
       "    </tr>\n",
       "    <tr>\n",
       "      <th>mean</th>\n",
       "      <td>125.505814</td>\n",
       "    </tr>\n",
       "    <tr>\n",
       "      <th>std</th>\n",
       "      <td>81.121200</td>\n",
       "    </tr>\n",
       "    <tr>\n",
       "      <th>min</th>\n",
       "      <td>1.000000</td>\n",
       "    </tr>\n",
       "    <tr>\n",
       "      <th>25%</th>\n",
       "      <td>53.750000</td>\n",
       "    </tr>\n",
       "    <tr>\n",
       "      <th>50%</th>\n",
       "      <td>120.500000</td>\n",
       "    </tr>\n",
       "    <tr>\n",
       "      <th>75%</th>\n",
       "      <td>201.750000</td>\n",
       "    </tr>\n",
       "    <tr>\n",
       "      <th>max</th>\n",
       "      <td>264.000000</td>\n",
       "    </tr>\n",
       "  </tbody>\n",
       "</table>\n",
       "</div>"
      ],
      "text/plain": [
       "               id\n",
       "count  172.000000\n",
       "mean   125.505814\n",
       "std     81.121200\n",
       "min      1.000000\n",
       "25%     53.750000\n",
       "50%    120.500000\n",
       "75%    201.750000\n",
       "max    264.000000"
      ]
     },
     "execution_count": 7,
     "metadata": {},
     "output_type": "execute_result"
    }
   ],
   "source": [
    "df.describe()"
   ]
  },
  {
   "cell_type": "code",
   "execution_count": 8,
   "id": "70ac12b3-98fd-4412-8c15-baf7aeb6bb0d",
   "metadata": {
    "scrolled": true
   },
   "outputs": [
    {
     "data": {
      "text/plain": [
       "weight                  0\n",
       "height                  0\n",
       "id                      0\n",
       "name                    0\n",
       "bred_for               21\n",
       "breed_group            16\n",
       "life_span               0\n",
       "temperament             4\n",
       "origin                167\n",
       "reference_image_id      0\n",
       "country_code          160\n",
       "description           171\n",
       "history               170\n",
       "dtype: int64"
      ]
     },
     "execution_count": 8,
     "metadata": {},
     "output_type": "execute_result"
    }
   ],
   "source": [
    "df.isnull().sum()"
   ]
  },
  {
   "cell_type": "code",
   "execution_count": 10,
   "id": "7d8555c9-d01b-494f-bbe7-609ba75c215d",
   "metadata": {},
   "outputs": [
    {
     "data": {
      "text/html": [
       "<div>\n",
       "<style scoped>\n",
       "    .dataframe tbody tr th:only-of-type {\n",
       "        vertical-align: middle;\n",
       "    }\n",
       "\n",
       "    .dataframe tbody tr th {\n",
       "        vertical-align: top;\n",
       "    }\n",
       "\n",
       "    .dataframe thead th {\n",
       "        text-align: right;\n",
       "    }\n",
       "</style>\n",
       "<table border=\"1\" class=\"dataframe\">\n",
       "  <thead>\n",
       "    <tr style=\"text-align: right;\">\n",
       "      <th></th>\n",
       "      <th>weight</th>\n",
       "      <th>height</th>\n",
       "      <th>id</th>\n",
       "      <th>name</th>\n",
       "      <th>bred_for</th>\n",
       "      <th>breed_group</th>\n",
       "      <th>life_span</th>\n",
       "      <th>temperament</th>\n",
       "      <th>origin</th>\n",
       "      <th>reference_image_id</th>\n",
       "      <th>country_code</th>\n",
       "      <th>description</th>\n",
       "      <th>history</th>\n",
       "    </tr>\n",
       "  </thead>\n",
       "  <tbody>\n",
       "    <tr>\n",
       "      <th>126</th>\n",
       "      <td>{'imperial': '15 - 17', 'metric': '7 - 8'}</td>\n",
       "      <td>{'imperial': '11 - 15', 'metric': '28 - 38'}</td>\n",
       "      <td>196</td>\n",
       "      <td>Poodle (Miniature)</td>\n",
       "      <td>NaN</td>\n",
       "      <td>NaN</td>\n",
       "      <td>12 – 15 years</td>\n",
       "      <td>NaN</td>\n",
       "      <td>NaN</td>\n",
       "      <td>Hkxk4ecVX</td>\n",
       "      <td>NaN</td>\n",
       "      <td>NaN</td>\n",
       "      <td>NaN</td>\n",
       "    </tr>\n",
       "    <tr>\n",
       "      <th>127</th>\n",
       "      <td>{'imperial': '6 - 9', 'metric': '3 - 4'}</td>\n",
       "      <td>{'imperial': '9 - 11', 'metric': '23 - 28'}</td>\n",
       "      <td>197</td>\n",
       "      <td>Poodle (Toy)</td>\n",
       "      <td>NaN</td>\n",
       "      <td>NaN</td>\n",
       "      <td>18 years</td>\n",
       "      <td>NaN</td>\n",
       "      <td>NaN</td>\n",
       "      <td>rJFJVxc4m</td>\n",
       "      <td>NaN</td>\n",
       "      <td>NaN</td>\n",
       "      <td>NaN</td>\n",
       "    </tr>\n",
       "    <tr>\n",
       "      <th>135</th>\n",
       "      <td>{'imperial': '3 - 6', 'metric': '1 - 3'}</td>\n",
       "      <td>{'imperial': '7.5 - 10.5', 'metric': '19 - 27'}</td>\n",
       "      <td>211</td>\n",
       "      <td>Russian Toy</td>\n",
       "      <td>NaN</td>\n",
       "      <td>Toy</td>\n",
       "      <td>10 - 12 years</td>\n",
       "      <td>NaN</td>\n",
       "      <td>NaN</td>\n",
       "      <td>HkP7Vxc4Q</td>\n",
       "      <td>NaN</td>\n",
       "      <td>NaN</td>\n",
       "      <td>NaN</td>\n",
       "    </tr>\n",
       "    <tr>\n",
       "      <th>169</th>\n",
       "      <td>{'imperial': '45 - 65', 'metric': '20 - 29'}</td>\n",
       "      <td>{'imperial': '21.5 - 25', 'metric': '55 - 64'}</td>\n",
       "      <td>261</td>\n",
       "      <td>Wirehaired Vizsla</td>\n",
       "      <td>NaN</td>\n",
       "      <td>Sporting</td>\n",
       "      <td>12 - 14 years</td>\n",
       "      <td>NaN</td>\n",
       "      <td>NaN</td>\n",
       "      <td>r1I4hl5Em</td>\n",
       "      <td>NaN</td>\n",
       "      <td>NaN</td>\n",
       "      <td>NaN</td>\n",
       "    </tr>\n",
       "  </tbody>\n",
       "</table>\n",
       "</div>"
      ],
      "text/plain": [
       "                                           weight  \\\n",
       "126    {'imperial': '15 - 17', 'metric': '7 - 8'}   \n",
       "127      {'imperial': '6 - 9', 'metric': '3 - 4'}   \n",
       "135      {'imperial': '3 - 6', 'metric': '1 - 3'}   \n",
       "169  {'imperial': '45 - 65', 'metric': '20 - 29'}   \n",
       "\n",
       "                                              height   id                name  \\\n",
       "126     {'imperial': '11 - 15', 'metric': '28 - 38'}  196  Poodle (Miniature)   \n",
       "127      {'imperial': '9 - 11', 'metric': '23 - 28'}  197        Poodle (Toy)   \n",
       "135  {'imperial': '7.5 - 10.5', 'metric': '19 - 27'}  211         Russian Toy   \n",
       "169   {'imperial': '21.5 - 25', 'metric': '55 - 64'}  261   Wirehaired Vizsla   \n",
       "\n",
       "    bred_for breed_group      life_span temperament origin reference_image_id  \\\n",
       "126      NaN         NaN  12 – 15 years         NaN    NaN          Hkxk4ecVX   \n",
       "127      NaN         NaN       18 years         NaN    NaN          rJFJVxc4m   \n",
       "135      NaN         Toy  10 - 12 years         NaN    NaN          HkP7Vxc4Q   \n",
       "169      NaN    Sporting  12 - 14 years         NaN    NaN          r1I4hl5Em   \n",
       "\n",
       "    country_code description history  \n",
       "126          NaN         NaN     NaN  \n",
       "127          NaN         NaN     NaN  \n",
       "135          NaN         NaN     NaN  \n",
       "169          NaN         NaN     NaN  "
      ]
     },
     "execution_count": 10,
     "metadata": {},
     "output_type": "execute_result"
    }
   ],
   "source": [
    "null_temperament = df[df['temperament'].isnull()]\n",
    "null_temperament"
   ]
  },
  {
   "cell_type": "markdown",
   "id": "1e16eff1-d1f9-4aa7-83c9-ad21db65ad22",
   "metadata": {},
   "source": [
    "## 4. Implementa la limpieza de datos que consideres necesaria."
   ]
  },
  {
   "cell_type": "code",
   "execution_count": 11,
   "id": "2b64c7dc-f18a-434a-a5ce-9a4c58da96fa",
   "metadata": {},
   "outputs": [
    {
     "name": "stdout",
     "output_type": "stream",
     "text": [
      "weight                 0\n",
      "height                 0\n",
      "id                     0\n",
      "name                   0\n",
      "bred_for              21\n",
      "breed_group           16\n",
      "life_span              0\n",
      "temperament            4\n",
      "reference_image_id     0\n",
      "dtype: int64\n"
     ]
    }
   ],
   "source": [
    "# Eliminar columnas con más de 100 valores nulos\n",
    "df = df.drop(columns=df.columns[df.isnull().sum() > 100])\n",
    "\n",
    "# Verificar el resultado\n",
    "print(df.isnull().sum())"
   ]
  },
  {
   "cell_type": "code",
   "execution_count": 12,
   "id": "1069c238-18a6-4a91-a8d5-ab74c4028fa5",
   "metadata": {},
   "outputs": [],
   "source": [
    "# seleccionar solo el primer número para la columna 'life_span'\n",
    "numeros = []\n",
    "for span in df['life_span']:\n",
    "    numero = int(span.split()[0])\n",
    "    numeros.append(numero)\n",
    "\n",
    "df['life_span'] = numeros"
   ]
  },
  {
   "cell_type": "code",
   "execution_count": 13,
   "id": "45b40a0f-aebe-4c0c-bc17-b3b520bbf816",
   "metadata": {},
   "outputs": [
    {
     "data": {
      "text/html": [
       "<div>\n",
       "<style scoped>\n",
       "    .dataframe tbody tr th:only-of-type {\n",
       "        vertical-align: middle;\n",
       "    }\n",
       "\n",
       "    .dataframe tbody tr th {\n",
       "        vertical-align: top;\n",
       "    }\n",
       "\n",
       "    .dataframe thead th {\n",
       "        text-align: right;\n",
       "    }\n",
       "</style>\n",
       "<table border=\"1\" class=\"dataframe\">\n",
       "  <thead>\n",
       "    <tr style=\"text-align: right;\">\n",
       "      <th></th>\n",
       "      <th>life_span</th>\n",
       "      <th>temperament</th>\n",
       "    </tr>\n",
       "  </thead>\n",
       "  <tbody>\n",
       "    <tr>\n",
       "      <th>0</th>\n",
       "      <td>10</td>\n",
       "      <td>Stubborn, Curious, Playful, Adventurous, Activ...</td>\n",
       "    </tr>\n",
       "    <tr>\n",
       "      <th>1</th>\n",
       "      <td>10</td>\n",
       "      <td>Aloof, Clownish, Dignified, Independent, Happy</td>\n",
       "    </tr>\n",
       "    <tr>\n",
       "      <th>2</th>\n",
       "      <td>11</td>\n",
       "      <td>Wild, Hardworking, Dutiful</td>\n",
       "    </tr>\n",
       "    <tr>\n",
       "      <th>3</th>\n",
       "      <td>10</td>\n",
       "      <td>Outgoing, Friendly, Alert, Confident, Intellig...</td>\n",
       "    </tr>\n",
       "    <tr>\n",
       "      <th>4</th>\n",
       "      <td>10</td>\n",
       "      <td>Loyal, Independent, Intelligent, Brave</td>\n",
       "    </tr>\n",
       "    <tr>\n",
       "      <th>...</th>\n",
       "      <td>...</td>\n",
       "      <td>...</td>\n",
       "    </tr>\n",
       "    <tr>\n",
       "      <th>167</th>\n",
       "      <td>13</td>\n",
       "      <td>Fearless, Friendly, Bold, Keen, Alert, Quick</td>\n",
       "    </tr>\n",
       "    <tr>\n",
       "      <th>168</th>\n",
       "      <td>12</td>\n",
       "      <td>Loyal, Gentle, Vigilant, Trainable, Proud</td>\n",
       "    </tr>\n",
       "    <tr>\n",
       "      <th>169</th>\n",
       "      <td>12</td>\n",
       "      <td>NaN</td>\n",
       "    </tr>\n",
       "    <tr>\n",
       "      <th>170</th>\n",
       "      <td>12</td>\n",
       "      <td>Cheerful, Alert, Companionable, Intelligent, P...</td>\n",
       "    </tr>\n",
       "    <tr>\n",
       "      <th>171</th>\n",
       "      <td>12</td>\n",
       "      <td>Bold, Independent, Confident, Intelligent, Cou...</td>\n",
       "    </tr>\n",
       "  </tbody>\n",
       "</table>\n",
       "<p>172 rows × 2 columns</p>\n",
       "</div>"
      ],
      "text/plain": [
       "     life_span                                        temperament\n",
       "0           10  Stubborn, Curious, Playful, Adventurous, Activ...\n",
       "1           10     Aloof, Clownish, Dignified, Independent, Happy\n",
       "2           11                         Wild, Hardworking, Dutiful\n",
       "3           10  Outgoing, Friendly, Alert, Confident, Intellig...\n",
       "4           10             Loyal, Independent, Intelligent, Brave\n",
       "..         ...                                                ...\n",
       "167         13       Fearless, Friendly, Bold, Keen, Alert, Quick\n",
       "168         12          Loyal, Gentle, Vigilant, Trainable, Proud\n",
       "169         12                                                NaN\n",
       "170         12  Cheerful, Alert, Companionable, Intelligent, P...\n",
       "171         12  Bold, Independent, Confident, Intelligent, Cou...\n",
       "\n",
       "[172 rows x 2 columns]"
      ]
     },
     "execution_count": 13,
     "metadata": {},
     "output_type": "execute_result"
    }
   ],
   "source": [
    "# dejar solamente las columnas que necesitaremos para nuestras visualizaciones\n",
    "columnas_de_interes = [\"life_span\", \"temperament\"]\n",
    "df = df[columnas_de_interes]\n",
    "df"
   ]
  },
  {
   "cell_type": "code",
   "execution_count": 19,
   "id": "e5e37166-6d10-4b49-b5f2-76b6ca0e3efb",
   "metadata": {},
   "outputs": [],
   "source": [
    "df['temperament'] = df['temperament'].fillna('Desconocido')"
   ]
  },
  {
   "cell_type": "markdown",
   "id": "c88ffd29-91fe-464d-9681-79a95927fe3f",
   "metadata": {},
   "source": [
    "# 5. Crea los gráficos que creas necesarios para poder visualizar con claridad la respuesta a las preguntas."
   ]
  },
  {
   "cell_type": "markdown",
   "id": "7790ecf2-c6f7-4703-a939-b2ee9221b66b",
   "metadata": {},
   "source": [
    "#### ¿Cuál es la esperanza de vida (en años) más frecuente entre todas las razas de perro?"
   ]
  },
  {
   "cell_type": "code",
   "execution_count": 18,
   "id": "4cf2a56d-1327-485a-b0ef-0cf6b9108469",
   "metadata": {},
   "outputs": [
    {
     "data": {
      "image/png": "[encoded data removed]",
      "text/plain": [
       "<Figure size 640x480 with 1 Axes>"
      ]
     },
     "metadata": {},
     "output_type": "display_data"
    }
   ],
   "source": [
    "plt.hist(df['life_span'], bins=30, color='blue', edgecolor='black')\n",
    "plt.title('Distribución de Esperanza de Vida')\n",
    "plt.xlabel('Esperanza de Vida (años)')\n",
    "plt.ylabel('Frecuencia')\n",
    "plt.show()"
   ]
  },
  {
   "cell_type": "markdown",
   "id": "e0b22a97-353c-41b7-9a56-d6411ba7884f",
   "metadata": {},
   "source": [
    "RESPUESTA: 12 años es la esperanza de vida más frecuente"
   ]
  },
  {
   "cell_type": "code",
   "execution_count": 32,
   "id": "d2e89d17-5006-4eb7-840c-76072bbda4c0",
   "metadata": {},
   "outputs": [
    {
     "data": {
      "image/png": "[encoded data removed]",
      "text/plain": [
       "<Figure size 1000x600 with 1 Axes>"
      ]
     },
     "metadata": {},
     "output_type": "display_data"
    }
   ],
   "source": [
    "# crear un histograma sobre la distribución de la esperanza de Vida por raza\n",
    "plt.figure(figsize=(10, 6))\n",
    "sns.histplot(df['life_span'], kde=True, bins=20)\n",
    "plt.title('Distribución de la Esperanza de Vida de las Razas de Perros')\n",
    "plt.xlabel('Esperanza de Vida (años)')\n",
    "plt.ylabel('Frecuencia');"
   ]
  },
  {
   "cell_type": "markdown",
   "id": "f76e08e9-b695-4084-9a32-f4e14e6412f6",
   "metadata": {},
   "source": [
    "#### ¿Cuál es el temperamento más frecuente entre todas las razas de perros?"
   ]
  },
  {
   "cell_type": "code",
   "execution_count": 34,
   "id": "5713fc6e-4030-44a1-885e-4d750b6323e3",
   "metadata": {},
   "outputs": [
    {
     "name": "stderr",
     "output_type": "stream",
     "text": [
      "C:\\Users\\KeythiCL\\AppData\\Local\\Temp\\ipykernel_10916\\1965731351.py:15: FutureWarning: \n",
      "\n",
      "Passing `palette` without assigning `hue` is deprecated and will be removed in v0.14.0. Assign the `y` variable to `hue` and set `legend=False` for the same effect.\n",
      "\n",
      "  sns.barplot(\n"
     ]
    },
    {
     "data": {
      "image/png": "[encoded data removed]",
      "text/plain": [
       "<Figure size 1200x600 with 1 Axes>"
      ]
     },
     "metadata": {},
     "output_type": "display_data"
    }
   ],
   "source": [
    "# Dividir los temperamentos en una lista de palabras\n",
    "lista_temperamentos = df['temperament'].dropna().str.split(', ')\n",
    "temperamentos = []\n",
    "for sublista in lista_temperamentos:\n",
    "    for temperamento in sublista:\n",
    "        temperamentos.append(temperamento)\n",
    "\n",
    "# Contar los temperamentos usando pandas\n",
    "serie_temperamentos = pd.Series(temperamentos)\n",
    "conteo_temperamentos = serie_temperamentos.value_counts().head(30).reset_index()\n",
    "conteo_temperamentos.columns = ['Temperamento', 'Conteo']\n",
    "\n",
    "# Graficar los temperamentos más comunes con colores\n",
    "plt.figure(figsize=(12, 6))\n",
    "sns.barplot(\n",
    "    x='Conteo', \n",
    "    y='Temperamento', \n",
    "    data=conteo_temperamentos, \n",
    "    palette='viridis'  # Aquí agregas los colores\n",
    ")\n",
    "plt.title('Temperamentos más Comunes en las Razas de Perros')\n",
    "plt.xlabel('Cantidad')\n",
    "plt.ylabel('Temperamento')\n",
    "plt.show()\n"
   ]
  },
  {
   "cell_type": "markdown",
   "id": "2e99c4bf-78a5-4f9a-ac8f-7dbd7efb8809",
   "metadata": {},
   "source": [
    "RESPUESTA: Inteligente es el tipo de temperamento más frecuente"
   ]
  }
 ],
 "metadata": {
  "kernelspec": {
   "display_name": "Python 3 (ipykernel)",
   "language": "python",
   "name": "python3"
  },
  "language_info": {
   "codemirror_mode": {
    "name": "ipython",
    "version": 3
   },
   "file_extension": ".py",
   "mimetype": "text/x-python",
   "name": "python",
   "nbconvert_exporter": "python",
   "pygments_lexer": "ipython3",
   "version": "3.12.7"
  }
 },
 "nbformat": 4,
 "nbformat_minor": 5
}
