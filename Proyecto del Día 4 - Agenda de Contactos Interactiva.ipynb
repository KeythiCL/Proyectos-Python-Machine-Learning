{
 "cells": [
  {
   "cell_type": "markdown",
   "id": "0d153c56",
   "metadata": {},
   "source": [
    "# Proyecto del Día 4: Agenda de Contactos Interactiva\n",
    "\n",
    "### Objetivo\n",
    "Crear una agenda de contactos utilizando Python, aplicando los conceptos aprendidos sobre listas, tuplas, diccionarios, booleanos y estructuras de control.\n",
    "\n",
    "\n",
    "### Consigna\n",
    "Cada vez que inicies tu agenda, va a comenzar preguntándole al usuario cuál de estas opciones prefiere:\n",
    "1. **Añadir un contacto**: Crear un nuevo registro en la agenda (nombre, telefono).\n",
    "2. **Buscar un contacto**: Buscar un contacto por nombre y mostrar su teléfono, o un mensaje de error si no lo encuentra.\n",
    "3. **Editar un contacto**: Modificar teléfono de un contacto existente.\n",
    "4. **Eliminar un contacto**: Eliminar un contacto de la agenda (investiga los métodos disponibles para lograrlo)\n",
    "5. **Mostrar todos los contactos**: Mostrar todos los contactos guardados en la agenda.\n",
    "\n",
    "El usuario elegirá una de esas opciones, y el programa ejecutará el código correspondiente para procesar su pedido y mostrarle el resultado.\n",
    "\n",
    "\n",
    "### Notas y Ayudas\n",
    "- Debido a que vas a almacenar pares de datos (nombre y teléfono) ¿cuál crees que sería la mejor estructura de datos para guardarlos: **listas**, **tuplas** o **diccionarios**?\n",
    "- Algunas de las funcionalidades de tu agenda, pueden requerir que investigues algunos métodos que no hemos visto en las lecciones, pero que podrás descubrir con *type*, *dir* y *help*.\n",
    "<br>  \n",
    "<br>\n",
    "<br>"
   ]
  },
  {
   "cell_type": "markdown",
   "id": "c6c4ab9d",
   "metadata": {},
   "source": [
    "## Resolución"
   ]
  },
  {
   "cell_type": "markdown",
   "id": "cb507a52",
   "metadata": {},
   "source": [
    "Crea una agenda vacía"
   ]
  },
  {
   "cell_type": "code",
   "execution_count": 43,
   "id": "e9c026bd",
   "metadata": {},
   "outputs": [
    {
     "name": "stdout",
     "output_type": "stream",
     "text": [
      "Bienvenido a tu agenda personal\n",
      "1- Añadir un contacto\n",
      "2- Buscar un contacto\n",
      "3- Editar un contacto\n",
      "4- Eliminar un contacto\n",
      "5- Mostrar todos los contactos\n"
     ]
    },
    {
     "name": "stdin",
     "output_type": "stream",
     "text": [
      "Por favor inserte el número de la opción que desee 8\n"
     ]
    },
    {
     "name": "stdout",
     "output_type": "stream",
     "text": [
      "Por favor elija un numero entre el 1 al 5\n"
     ]
    }
   ],
   "source": [
    "contactos = {\"Keythi\":1133446677, \"Consuelo\":3344556677}\n",
    "\n",
    "print(\"Bienvenido a tu agenda personal\\n1- Añadir un contacto\\n2- Buscar un contacto\\n3- Editar un contacto\\n4- Eliminar un contacto\\n5- Mostrar todos los contactos\")\n",
    "\n",
    "opcion = input(\"Por favor inserte el número de la opción que desee\")\n",
    "\n",
    "if opcion == \"1\":\n",
    "    nombre = input(\"Ingrese nombre\")\n",
    "    telefono = input(\"Ingrese telefono\")\n",
    "    contactos[nombre] = telefono\n",
    "    print(contactos)\n",
    "\n",
    "elif opcion == \"2\":\n",
    "    busqueda = input(\"Ingrese nombre que desea buscar\")\n",
    "    if busqueda in contactos:\n",
    "        print(contactos.get(busqueda))\n",
    "    else:\n",
    "        print(\"No se encontro su busqueda\")\n",
    "\n",
    "elif opcion == \"3\":\n",
    "    editar = input(\"Ingrese nombre de contacto que desea editar\")\n",
    "    if editar in contactos:\n",
    "        actualizacion = input(\"Numero nuevo: \")\n",
    "        contactos[editar] = actualizacion\n",
    "        print(contactos)\n",
    "    else:\n",
    "        print(\"No se encontro el nombre\")\n",
    "\n",
    "elif opcion == \"4\":\n",
    "    eliminar = input(\"Ingrese nombre de contacto que desea eliminar\")\n",
    "    if eliminar in contactos:\n",
    "        del contactos[eliminar]\n",
    "        print(f\"{eliminar} fue eliminado de tus contactos\")\n",
    "    else:\n",
    "        print(\"No se encontro el nombre\")\n",
    "    print(contactos)\n",
    "    \n",
    "elif opcion == \"5\":\n",
    "    print(contactos)\n",
    "\n",
    "else:\n",
    "    print(\"Por favor elija un numero entre el 1 al 5\")"
   ]
  },
  {
   "cell_type": "markdown",
   "id": "be7b6b93",
   "metadata": {},
   "source": [
    "En la siguiente celda, incluye el código para ejecutar las siguientes instrucciones:\n",
    "- Mostrar en pantalla las opciones\n",
    "- Pedirle al usuario que elija las opciones\n",
    "- Crear una estructura de control (*if*, *elif* y *else*) que ejecute diferentes bloques de código según las opciones elegidas."
   ]
  }
 ],
 "metadata": {
  "kernelspec": {
   "display_name": "Python 3 (ipykernel)",
   "language": "python",
   "name": "python3"
  },
  "language_info": {
   "codemirror_mode": {
    "name": "ipython",
    "version": 3
   },
   "file_extension": ".py",
   "mimetype": "text/x-python",
   "name": "python",
   "nbconvert_exporter": "python",
   "pygments_lexer": "ipython3",
   "version": "3.12.7"
  }
 },
 "nbformat": 4,
 "nbformat_minor": 5
}
