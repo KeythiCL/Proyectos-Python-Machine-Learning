{
 "cells": [
  {
   "cell_type": "markdown",
   "id": "441662ba-d599-4946-8c45-547fd36a91b8",
   "metadata": {},
   "source": [
    "# Proyecto del Día 2: Cambio de Divisas\n",
    "\n",
    "### Aclaración\n",
    "Como este es tu primer proyecto, va a estar **detalladamente guiado** con instrucciones para cada una de las celdas. A medida que avancemos en el curso, los proyectos serán menos guiados, y más complejos. Este proyecto es sencillo para que comencemos con algo fácil, y además porque aún no hemos aprendido suficientes herramientas como para hacer programas más funcionales, pero aún así te va a sorprender cómo pudimos unir todo lo aprendido hoy y realizar un buen desafío.\n",
    "\n",
    "\n",
    "### Consigna.\n",
    "Vas a crear un código que simule el funcionamiento de una **máquina de cambio de divisas**. Por el momento nuestra máquina sólo recibe **dólares** y devuelve **euros** ¡No es poco para ser tu primer programa!\n",
    "\n",
    "Tu máquina va a necesitar disponer de variables que le brinden la siguiente información:\n",
    "- Nombre del usuario\n",
    "- Fecha en que se realiza la operación\n",
    "- Momento del día (día, tarde o noche)\n",
    "- Cantidad de dólares a cambiar\n",
    "\n",
    "Con todo eso, la máquina va a imprimir en pantalla (en diferentes líneas por supuesto) un mensaje que incluya los siguientes requisitos:\n",
    "\n",
    "- Un saludo de bienvenida\n",
    "- Información de la cantidad de dolares que va a entregar el usuario\n",
    "- Información de la cantidad de euros que va a recibir\n",
    "- Detalle específico de cuántos billetes de €10, de €1, y el saldo en monedas que le serán entregados\n",
    "- Un saludo de despedida\n",
    "\n",
    "### Nota importante\n",
    "No hay una única manera de hacer esto. En programación siempre hay muchos caminos para lograr el mismo objetivo. Mientras que logres cumplir con la consigna, cualquier abordaje (sensato) es válido.\n",
    "\n",
    "En las siguientes celdas te iré proporcionando las instrucciones específica para que puedas desarrollar el proyecto paso a paso. De todos modos, si te sientes valiente, puedes abrir un nuevo cuaderno en blanco y hacerlo todo desde cero por tí mismo. Si lo logras, felicitaciones, pero si te encuentras bloqueado en algún momento, nada de sentir vergüenza. Te vuelves a este cuaderno, y lo sigues con mis instrucciones.\n",
    "\n",
    "### Nota sumer-mega-archi importante\n",
    "La idea no sólo es aprender, sino fundamentalmente divertirse. Programar es hermoso, es desafiante, es la oportunidad de concentrarnos en un problema y poner lo mejor de nosotros para resolverlo.\n",
    "\n",
    "Eso no significa que si no lo puedes resolver no te vas a divertir. Todo lo contrario. Si bien resolver problemas por uno mismo es emocionante y excitante, una de las sensaciones más placenteras que he experimentado, es creer que algo es imposible, y que luego alguien en quien confío me muestre el camino para lograrlo. Se llama \"momento Eureka\", y espero que te atrevas a experimentarlo tu también.\n",
    "<br>\n",
    "<br>\n",
    "<br>"
   ]
  },
  {
   "cell_type": "markdown",
   "id": "fa858420-e38e-49d6-a216-c437d84d575c",
   "metadata": {},
   "source": [
    "## Instrucciones paso a paso\n",
    "\n",
    "1. Escribe el código necesario para saludar al usuario, antes de comenzar sus operaciones. Vas a crear tres variables que contengan, respectivamente, el **nombre** del usuario, la **fecha** del día en que está haciendo la operación, y un **saludo** que puede ser *Buenos días*, *Buenas tardes* o *Buenas noches*."
   ]
  },
  {
   "cell_type": "code",
   "execution_count": 9,
   "id": "0593b09f-b865-4d4f-89ca-5298dbcd8643",
   "metadata": {},
   "outputs": [],
   "source": [
    "nombre = \"Keith\"\n",
    "fecha = \"12/10/2025\"\n",
    "saludo = \"Buenos días\""
   ]
  },
  {
   "cell_type": "markdown",
   "id": "ddea69c8-8390-47cd-b9f6-ea44d4010377",
   "metadata": {},
   "source": [
    "2. Crea una variable llamada **bienvenida** que concatene toda la información anterior en un solo mensaje que salude al usuario  que va a usar el servicio de cambio de divisas. Puedes poner la creatividad que gustes en este mensaje.\n",
    "\n",
    "**Pista**: Recuerda que en la lección operaciones vimos cómo puedes concatenar strings para formar una sola cadena de texto."
   ]
  },
  {
   "cell_type": "code",
   "execution_count": 10,
   "id": "f9c9719f-085d-463f-9a5b-5dc0d8c6ee1f",
   "metadata": {},
   "outputs": [
    {
     "data": {
      "text/plain": [
       "'Buenos días Keith! Hoy es 12/10/2025. Bienvenido al servicio de divisas!'"
      ]
     },
     "execution_count": 10,
     "metadata": {},
     "output_type": "execute_result"
    }
   ],
   "source": [
    "bienvenida = saludo + \" \" + nombre + \"! Hoy es \" + fecha + \". Bienvenido al servicio de divisas!\"\n",
    "bienvenida"
   ]
  },
  {
   "cell_type": "markdown",
   "id": "2eeba014-4086-4795-a9f2-546f5eeefe7f",
   "metadata": {},
   "source": [
    "3. Crea una variable numérica llamada **dolares** que almacene la cantidad de dólares que quieres cambiar por euros. Ten en cuenta que los valores en *moneda* suelen expresarse con números decimales, por lo que sería ideal utilizar un valor de tipo **float**."
   ]
  },
  {
   "cell_type": "code",
   "execution_count": 12,
   "id": "a0131ac3-8ea6-4c10-a41c-484359b1d52e",
   "metadata": {},
   "outputs": [
    {
     "data": {
      "text/plain": [
       "210.0"
      ]
     },
     "execution_count": 12,
     "metadata": {},
     "output_type": "execute_result"
    }
   ],
   "source": [
    "dolares = 210.0\n",
    "dolares"
   ]
  },
  {
   "cell_type": "markdown",
   "id": "ae79ca30-3572-4bca-845d-f3fd28cfc434",
   "metadata": {},
   "source": [
    "4. Crea una variable llamada **euros_a_recibir** que guarde el resultado de calcular cuántos euros corresponden para la cantidad de dolares ingresada en la variable **dolares**. El tipo de cambio que usaremos es de *0.88*."
   ]
  },
  {
   "cell_type": "code",
   "execution_count": 13,
   "id": "4c10d366-6baa-4683-bb15-24bd57794097",
   "metadata": {},
   "outputs": [
    {
     "data": {
      "text/plain": [
       "184.8"
      ]
     },
     "execution_count": 13,
     "metadata": {},
     "output_type": "execute_result"
    }
   ],
   "source": [
    "euros_a_recibir = dolares * 0.88\n",
    "euros_a_recibir"
   ]
  },
  {
   "cell_type": "markdown",
   "id": "e5175628-8690-4c75-93e2-d565f5c191cc",
   "metadata": {},
   "source": [
    "5. Nuestra máquina (imaginaria), solo entrega billetes de €10, y de €1 (los decimales los entregará en monedas). Crea 3 variables para cada uno de esos valores (**billetes_10**, **billetes_1** y **monedas**), que contengan los cálculos necesarios para saber cuánto valor en monedas, y cuántos billetes de cada tipo recibirá el usuario."
   ]
  },
  {
   "cell_type": "code",
   "execution_count": 15,
   "id": "9b60fcbf-6180-4fd7-a245-5d89c807e36b",
   "metadata": {},
   "outputs": [
    {
     "data": {
      "text/plain": [
       "18.0"
      ]
     },
     "execution_count": 15,
     "metadata": {},
     "output_type": "execute_result"
    }
   ],
   "source": [
    "billetes_10 = euros_a_recibir // 10\n",
    "billetes_10"
   ]
  },
  {
   "cell_type": "code",
   "execution_count": 16,
   "id": "c63fca63-8ef5-4f79-a4c5-307df7cc2ed8",
   "metadata": {},
   "outputs": [
    {
     "data": {
      "text/plain": [
       "4.0"
      ]
     },
     "execution_count": 16,
     "metadata": {},
     "output_type": "execute_result"
    }
   ],
   "source": [
    "billetes_1 = (euros_a_recibir - (billetes_10 * 10)) // 1\n",
    "billetes_1"
   ]
  },
  {
   "cell_type": "code",
   "execution_count": 17,
   "id": "972024b0-8fdb-42e9-a670-ab85a0131aba",
   "metadata": {},
   "outputs": [
    {
     "data": {
      "text/plain": [
       "0.8000000000000114"
      ]
     },
     "execution_count": 17,
     "metadata": {},
     "output_type": "execute_result"
    }
   ],
   "source": [
    "monedas = euros_a_recibir % 1\n",
    "monedas"
   ]
  },
  {
   "cell_type": "markdown",
   "id": "d2a1dc32-d7b4-42e6-b4f6-9ef6405f8615",
   "metadata": {},
   "source": [
    "6. Finalmente escribe una serie de declaraciones **print()** que expresen el mensaje completo, mostrando los siguientes elementos:\n",
    "- Mensaje de bienvenida\n",
    "- Información sobre los dólares que entregará\n",
    "- Información sobre los euros que recibirá\n",
    "- Detalle de billetes y monedas que le serán entregados\n",
    "- Saludo de despedida\n",
    "\n",
    "**Importante**: Cómo aún no hemos aprendido a concatenar números y texto en la misma línea de impresión, en muchas ocaciones deberás crear líneas separadas para que el mensaje se muestre como en el siguiente ejemplo:\n",
    "\n",
    "```\n",
    "Dolares a entregar:\n",
    "150.45\n",
    "```\n"
   ]
  },
  {
   "cell_type": "code",
   "execution_count": 19,
   "id": "a3cf8100-0f3d-4e20-96ff-778cb14ebb3b",
   "metadata": {},
   "outputs": [
    {
     "name": "stdout",
     "output_type": "stream",
     "text": [
      "Buenos días Keith! Hoy es 12/10/2025. Bienvenido al servicio de divisas!\n",
      "\n",
      "Cantidad de dolares a cambiar:\n",
      "210.0\n",
      "\n",
      "Euros que va a recibir:\n",
      "184.8\n",
      "\n",
      "Usted va a recibir el dinero de la siguiente manera:\n",
      "Billetes de 10 euros:\n",
      "18.0\n",
      "\n",
      "Billetes de 1 euro\n",
      "4.0\n",
      "\n",
      "Monedas:\n",
      "0.8000000000000114\n",
      "\n",
      "Gracias por utilizar nuestro servicio Keith.\n"
     ]
    }
   ],
   "source": [
    "print(bienvenida)\n",
    "print(\"\")\n",
    "print(\"Cantidad de dolares a cambiar:\")\n",
    "print(dolares)\n",
    "print(\"\")\n",
    "print(\"Euros que va a recibir:\")\n",
    "print(euros_a_recibir)\n",
    "print(\"\")\n",
    "print(\"Usted va a recibir el dinero de la siguiente manera:\")\n",
    "print(\"Billetes de 10 euros:\")\n",
    "print(billetes_10)\n",
    "print(\"\")\n",
    "print(\"Billetes de 1 euro\")\n",
    "print(billetes_1)\n",
    "print(\"\")\n",
    "print(\"Monedas:\")\n",
    "print(monedas)\n",
    "print(\"\")\n",
    "print(\"Gracias por utilizar nuestro servicio \" + nombre + \".\")"
   ]
  },
  {
   "cell_type": "markdown",
   "id": "85f67300-fb3e-45f9-ae56-ba2e5c3083ec",
   "metadata": {},
   "source": [
    "------------"
   ]
  },
  {
   "cell_type": "code",
   "execution_count": 7,
   "id": "ab6442e2-a019-48f1-a30d-de2742861ca3",
   "metadata": {},
   "outputs": [],
   "source": [
    "nombreUsuario = \"Keith\"\n",
    "fechaHoy = \"21/12/2024\"\n",
    "momentoDia = \"Noche\"\n",
    "cantDolares = 152.552\n",
    "info = \"Cantidad de dolares que quiere entregar: \" \n",
    "saludo = \"Buenas \" + momentoDia + \"s, \" + nombreUsuario + \". Hoy estamos: \" + fechaHoy + \". Bienvenida!\"\n",
    "cantEuros = cantDolares * 0.95885\n",
    "info2 = \"Cantidad de euros a recibir: \"\n",
    "detalleBilletes10 = cantEuros / 10\n",
    "intBillete10 = int(detalleBilletes10)\n",
    "billeteTotal1 = intBillete10 * 10\n",
    "detalleBilletes12 = (cantEuros  - billeteTotal1) \n",
    "detalleBilletes1 = int(detalleBilletes12)\n",
    "billeteTotal2 = cantEuros - detalleBilletes12\n",
    "detalleMonedas = detalleBilletes12 - detalleBilletes1\n",
    "detalle = \"Cant de billetes de 10: \"\n",
    "detalle2 = \" -- De 1: \"\n",
    "detalle3 = \" -- y saldo en monedas: \"\n",
    "despedida = \"Gracias por usar nuestros servicios\""
   ]
  },
  {
   "cell_type": "code",
   "execution_count": 8,
   "id": "404920ec-d6e8-4b6a-83a8-1af7fa9c4360",
   "metadata": {},
   "outputs": [
    {
     "name": "stdout",
     "output_type": "stream",
     "text": [
      "Buenas Noches, Keith. Hoy estamos: 21/12/2024. Bienvenida!\n",
      "Cantidad de dolares que quiere entregar:  152.552\n",
      "Cantidad de euros a recibir:  146.2744852\n",
      "Cant de billetes de 10:  14  -- De 1:  6  -- y saldo en monedas:  0.27448519999998666\n",
      "Gracias por usar nuestros servicios\n"
     ]
    }
   ],
   "source": [
    "print(saludo)\n",
    "print(info, cantDolares)\n",
    "print(info2, cantEuros)\n",
    "print(detalle, intBillete10, detalle2, detalleBilletes1, detalle3, detalleMonedas)\n",
    "print(despedida)"
   ]
  }
 ],
 "metadata": {
  "kernelspec": {
   "display_name": "Python 3 (ipykernel)",
   "language": "python",
   "name": "python3"
  },
  "language_info": {
   "codemirror_mode": {
    "name": "ipython",
    "version": 3
   },
   "file_extension": ".py",
   "mimetype": "text/x-python",
   "name": "python",
   "nbconvert_exporter": "python",
   "pygments_lexer": "ipython3",
   "version": "3.12.7"
  }
 },
 "nbformat": 4,
 "nbformat_minor": 5
}
