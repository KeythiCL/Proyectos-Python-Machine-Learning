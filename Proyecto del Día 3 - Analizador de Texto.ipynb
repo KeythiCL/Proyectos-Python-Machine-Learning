{
 "cells": [
  {
   "cell_type": "markdown",
   "id": "9572445f",
   "metadata": {},
   "source": [
    "# Proyecto del Día 3: Analizador de Texto\n",
    "\n",
    "Este proyecto tiene como objetivo aplicar los conceptos aprendidos sobre strings, input, indexación y formateo de strings en Python. El programa permitirá al usuario ingresar un texto y luego elegir realizar diversas operaciones de análisis sobre ese texto.\n",
    "\n",
    "## Consigna\n",
    "Vas a crear un programa que le pida al usuario que ingrese un texto de al menos 10 palabras. Tu programa va a procesar ese texto, lo va a procesar, y le va a devolver un análisis detallado, que incluya:\n",
    "1. Contar el número total de caracteres en el texto\n",
    "2. Contar el número de caracteres sin incluir los espacios\n",
    "3. Contar la cantidad de vocales que hay en el texto\n",
    "4. Contar el número total de palabras en el texto ingresado\n",
    "\n",
    "**nota**: para resolver los siguientes items, deberás investigar otros métodos de strings que no hemos visto. Recuerda valerte de *type*, *dir* y *help*\n",
    "\n",
    "5. Eliminar la primera palabra\n",
    "6. Reemplazar todos los espacios por guiones medios (-)\n",
    "8. Cambia las mayúsculas a minúsculas y las minúsculas a mayúsculas \n",
    "\n",
    "Al finalizar el procesamiento, se imprimirán 8 cadenas literales mostrando los resultados del análisis (una cadena por cada resultado).\n",
    "<br>\n",
    "<br>\n",
    "<br>"
   ]
  },
  {
   "cell_type": "markdown",
   "id": "e5cd9e4d",
   "metadata": {},
   "source": [
    "### Resolución\n",
    "\n",
    "Ingreso del usuario:"
   ]
  },
  {
   "cell_type": "code",
   "execution_count": 15,
   "id": "fa27da8c",
   "metadata": {},
   "outputs": [
    {
     "name": "stdin",
     "output_type": "stream",
     "text": [
      "Por favor ingrese un texto de al menos 10 palabras Hola, soy Keythi Consuelo Luna Victoria Polonio y estoy estudiando Python\n"
     ]
    }
   ],
   "source": [
    "frase = input(\"Por favor ingrese un texto de al menos 10 palabras\")"
   ]
  },
  {
   "cell_type": "markdown",
   "id": "41214377",
   "metadata": {},
   "source": [
    "1. Contar el número total de caracteres en el texto"
   ]
  },
  {
   "cell_type": "code",
   "execution_count": 17,
   "id": "40448873",
   "metadata": {},
   "outputs": [
    {
     "name": "stdout",
     "output_type": "stream",
     "text": [
      "73\n"
     ]
    }
   ],
   "source": [
    "cant = len(frase)\n",
    "print(cant)"
   ]
  },
  {
   "cell_type": "markdown",
   "id": "3d6378dc",
   "metadata": {},
   "source": [
    "2. Contar el número de caracteres sin incluir los espacios"
   ]
  },
  {
   "cell_type": "code",
   "execution_count": 23,
   "id": "991b29c7",
   "metadata": {},
   "outputs": [
    {
     "name": "stdout",
     "output_type": "stream",
     "text": [
      "63\n"
     ]
    }
   ],
   "source": [
    "frase_sin_espacios = frase.replace(\" \", \"\")\n",
    "print(len(frase_sin_espacios))"
   ]
  },
  {
   "cell_type": "markdown",
   "id": "c6e62385",
   "metadata": {},
   "source": [
    "3. Contar la cantidad de vocales que hay en el texto"
   ]
  },
  {
   "cell_type": "code",
   "execution_count": 41,
   "id": "65b19bc7",
   "metadata": {},
   "outputs": [
    {
     "name": "stdout",
     "output_type": "stream",
     "text": [
      "27\n"
     ]
    }
   ],
   "source": [
    "a = frase.count(\"a\")\n",
    "e = frase.count(\"e\")\n",
    "i = frase.count(\"i\")\n",
    "o = frase.count(\"o\")\n",
    "u = frase.count(\"u\")\n",
    "\n",
    "suma = a + e + i + o + u\n",
    "\n",
    "print(suma)"
   ]
  },
  {
   "cell_type": "markdown",
   "id": "4b6211c5",
   "metadata": {},
   "source": [
    "4. Contar el número total de palabras en el texto ingresado"
   ]
  },
  {
   "cell_type": "code",
   "execution_count": 57,
   "id": "5b6eb1b1",
   "metadata": {},
   "outputs": [
    {
     "name": "stdout",
     "output_type": "stream",
     "text": [
      "11\n"
     ]
    }
   ],
   "source": [
    "print(len(frase.split()))"
   ]
  },
  {
   "cell_type": "markdown",
   "id": "bee5597e",
   "metadata": {},
   "source": [
    "5. Eliminar la primera palabra"
   ]
  },
  {
   "cell_type": "code",
   "execution_count": 71,
   "id": "8bcbfe9d",
   "metadata": {},
   "outputs": [
    {
     "name": "stdout",
     "output_type": "stream",
     "text": [
      ", soy Keythi Consuelo Luna Victoria Polonio y estoy estudiando Python\n"
     ]
    }
   ],
   "source": [
    "print(frase.replace(\"Hola\", \"\"))"
   ]
  },
  {
   "cell_type": "markdown",
   "id": "d5b05440",
   "metadata": {},
   "source": [
    "6. Reemplazar todos los espacios por guiones medios (-)"
   ]
  },
  {
   "cell_type": "code",
   "execution_count": 73,
   "id": "90a21e61",
   "metadata": {},
   "outputs": [
    {
     "name": "stdout",
     "output_type": "stream",
     "text": [
      "Hola,-soy-Keythi-Consuelo-Luna-Victoria-Polonio-y-estoy-estudiando-Python\n"
     ]
    }
   ],
   "source": [
    "print(frase.replace(\" \", \"-\"))"
   ]
  },
  {
   "cell_type": "markdown",
   "id": "8a61c508",
   "metadata": {},
   "source": [
    "7. Cambia las mayúsculas a minúsculas y las minúsculas a mayúsculas"
   ]
  },
  {
   "cell_type": "code",
   "execution_count": 75,
   "id": "8cb35aaf",
   "metadata": {},
   "outputs": [
    {
     "name": "stdout",
     "output_type": "stream",
     "text": [
      "hOLA, SOY kEYTHI cONSUELO lUNA vICTORIA pOLONIO Y ESTOY ESTUDIANDO pYTHON\n"
     ]
    }
   ],
   "source": [
    "print(frase.swapcase())"
   ]
  },
  {
   "cell_type": "markdown",
   "id": "66b8d816",
   "metadata": {},
   "source": [
    "Muéstrale al usuario los resultados del análisis de su texto."
   ]
  },
  {
   "cell_type": "code",
   "execution_count": 95,
   "id": "eb0d449a",
   "metadata": {},
   "outputs": [
    {
     "name": "stdout",
     "output_type": "stream",
     "text": [
      "1- Contar el número total de caracteres en el texto\n",
      "73\n",
      "2- Contar el número de caracteres sin incluir los espacios\n",
      "63\n",
      "3- Contar la cantidad de vocales que hay en el texto\n",
      "27\n",
      "4- Contar el número total de palabras en el texto ingresado\n",
      "11\n",
      "5- Eliminar la primera palabra\n",
      ", soy Keythi Consuelo Luna Victoria Polonio y estoy estudiando Python\n",
      "6- Reemplazar todos los espacios por guiones medios (-)\n",
      "Hola,-soy-Keythi-Consuelo-Luna-Victoria-Polonio-y-estoy-estudiando-Python\n",
      "7- Cambia las mayúsculas a minúsculas y las minúsculas a mayúsculas \n",
      "hOLA, SOY kEYTHI cONSUELO lUNA vICTORIA pOLONIO Y ESTOY ESTUDIANDO pYTHON\n"
     ]
    }
   ],
   "source": [
    "print(\"1- Contar el número total de caracteres en el texto\")\n",
    "print(len(frase))\n",
    "\n",
    "print(\"2- Contar el número de caracteres sin incluir los espacios\")\n",
    "frase_sin_espacios = frase.replace(\" \", \"\")\n",
    "print(len(frase_sin_espacios))\n",
    "\n",
    "print(\"3- Contar la cantidad de vocales que hay en el texto\")\n",
    "a = frase.count(\"a\")\n",
    "e = frase.count(\"e\")\n",
    "i = frase.count(\"i\")\n",
    "o = frase.count(\"o\")\n",
    "u = frase.count(\"u\")\n",
    "suma = a + e + i + o + u\n",
    "print(suma)\n",
    "\n",
    "print(\"4- Contar el número total de palabras en el texto ingresado\")\n",
    "print(len(frase.split()))\n",
    "\n",
    "print(\"5- Eliminar la primera palabra\")\n",
    "print(frase.replace(\"Hola\", \"\"))\n",
    "\n",
    "print(\"6- Reemplazar todos los espacios por guiones medios (-)\")\n",
    "print(frase.replace(\" \", \"-\"))\n",
    "\n",
    "print(\"7- Cambia las mayúsculas a minúsculas y las minúsculas a mayúsculas \")\n",
    "print(frase.swapcase())"
   ]
  },
  {
   "cell_type": "markdown",
   "id": "0809ef0a-f2d6-4d62-acbc-d7379402fedc",
   "metadata": {},
   "source": [
    "2"
   ]
  },
  {
   "cell_type": "code",
   "execution_count": 109,
   "id": "ea4dc2a4-8a1e-40b3-8ed5-d594d310ad9e",
   "metadata": {},
   "outputs": [
    {
     "data": {
      "text/plain": [
       "63"
      ]
     },
     "execution_count": 109,
     "metadata": {},
     "output_type": "execute_result"
    }
   ],
   "source": [
    "num_caracteres = len(frase)\n",
    "num_caracteres\n",
    "\n",
    "num_espacios = frase.count(\" \")\n",
    "num_caracteres_sin_espacio = num_caracteres - num_espacios\n",
    "num_caracteres_sin_espacio"
   ]
  },
  {
   "cell_type": "markdown",
   "id": "ccb9c0d9-ae76-4192-918c-a6ca314b95c5",
   "metadata": {},
   "source": [
    "4"
   ]
  },
  {
   "cell_type": "code",
   "execution_count": 111,
   "id": "65af3aaf-e453-4284-b2ea-e74071c0d117",
   "metadata": {},
   "outputs": [
    {
     "data": {
      "text/plain": [
       "11"
      ]
     },
     "execution_count": 111,
     "metadata": {},
     "output_type": "execute_result"
    }
   ],
   "source": [
    "num_palabras = num_espacios + 1\n",
    "num_palabras"
   ]
  },
  {
   "cell_type": "markdown",
   "id": "0c183481-d674-4f7b-b49e-8559a79c086e",
   "metadata": {},
   "source": [
    "5"
   ]
  },
  {
   "cell_type": "code",
   "execution_count": 119,
   "id": "75d4d990-7dc7-4554-b7f3-4f577560ab0a",
   "metadata": {},
   "outputs": [
    {
     "data": {
      "text/plain": [
       "'soy Keythi Consuelo Luna Victoria Polonio y estoy estudiando Python'"
      ]
     },
     "execution_count": 119,
     "metadata": {},
     "output_type": "execute_result"
    }
   ],
   "source": [
    "primer_espacio = frase.find(\" \")\n",
    "sin_primera_palabra = frase[primer_espacio + 1:]\n",
    "sin_primera_palabra"
   ]
  }
 ],
 "metadata": {
  "kernelspec": {
   "display_name": "Python 3 (ipykernel)",
   "language": "python",
   "name": "python3"
  },
  "language_info": {
   "codemirror_mode": {
    "name": "ipython",
    "version": 3
   },
   "file_extension": ".py",
   "mimetype": "text/x-python",
   "name": "python",
   "nbconvert_exporter": "python",
   "pygments_lexer": "ipython3",
   "version": "3.12.7"
  }
 },
 "nbformat": 4,
 "nbformat_minor": 5
}
